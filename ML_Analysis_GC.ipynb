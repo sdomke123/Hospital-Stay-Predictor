{
  "nbformat": 4,
  "nbformat_minor": 5,
  "metadata": {
    "kernelspec": {
      "display_name": "Python [conda env:PythonAdv] *",
      "language": "python",
      "name": "conda-env-PythonAdv-py"
    },
    "language_info": {
      "codemirror_mode": {
        "name": "ipython",
        "version": 3
      },
      "file_extension": ".py",
      "mimetype": "text/x-python",
      "name": "python",
      "nbconvert_exporter": "python",
      "pygments_lexer": "ipython3",
      "version": "3.6.13"
    },
    "colab": {
      "name": "ML_Analysis_GC.ipynb",
      "provenance": [],
      "toc_visible": true
    }
  },
  "cells": [
    {
      "cell_type": "code",
      "metadata": {
        "id": "5c77d735"
      },
      "source": [
        "%matplotlib inline\n",
        "import matplotlib.pyplot as plt\n",
        "import pandas as pd\n",
        "import numpy as np\n",
        "import statistics"
      ],
      "id": "5c77d735",
      "execution_count": null,
      "outputs": []
    },
    {
      "cell_type": "code",
      "metadata": {
        "id": "Tsmq4LcvlIK8"
      },
      "source": [
        "from google.colab import files"
      ],
      "id": "Tsmq4LcvlIK8",
      "execution_count": null,
      "outputs": []
    },
    {
      "cell_type": "code",
      "metadata": {
        "colab": {
          "resources": {
            "http://localhost:8080/nbextensions/google.colab/files.js": {
              "data": "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",
              "ok": true,
              "headers": [
                [
                  "content-type",
                  "application/javascript"
                ]
              ],
              "status": 200,
              "status_text": ""
            }
          },
          "base_uri": "https://localhost:8080/",
          "height": 72
        },
        "id": "KblS3AljlNc_",
        "outputId": "7d31098c-aeb0-4741-9268-471301b51345"
      },
      "source": [
        "uploaded = files.upload()"
      ],
      "id": "KblS3AljlNc_",
      "execution_count": null,
      "outputs": [
        {
          "output_type": "display_data",
          "data": {
            "text/html": [
              "\n",
              "     <input type=\"file\" id=\"files-7527cdbd-293c-4c1c-930a-51ce45295e36\" name=\"files[]\" multiple disabled\n",
              "        style=\"border:none\" />\n",
              "     <output id=\"result-7527cdbd-293c-4c1c-930a-51ce45295e36\">\n",
              "      Upload widget is only available when the cell has been executed in the\n",
              "      current browser session. Please rerun this cell to enable.\n",
              "      </output>\n",
              "      <script src=\"/nbextensions/google.colab/files.js\"></script> "
            ],
            "text/plain": [
              "<IPython.core.display.HTML object>"
            ]
          },
          "metadata": {
            "tags": []
          }
        },
        {
          "output_type": "stream",
          "text": [
            "Saving train_data.csv to train_data.csv\n"
          ],
          "name": "stdout"
        }
      ]
    },
    {
      "cell_type": "code",
      "metadata": {
        "id": "COi9mAvTmc-e"
      },
      "source": [
        "import io"
      ],
      "id": "COi9mAvTmc-e",
      "execution_count": null,
      "outputs": []
    },
    {
      "cell_type": "markdown",
      "metadata": {
        "id": "2326c05a"
      },
      "source": [
        "## Loading Data"
      ],
      "id": "2326c05a"
    },
    {
      "cell_type": "code",
      "metadata": {
        "colab": {
          "base_uri": "https://localhost:8080/",
          "height": 360
        },
        "id": "e0040144",
        "outputId": "476d4d2a-6221-421f-f970-d02505daf306"
      },
      "source": [
        "#Load train data\n",
        "train_data = pd.read_csv(io.BytesIO(uploaded['train_data.csv']))\n",
        "train_data.head()"
      ],
      "id": "e0040144",
      "execution_count": null,
      "outputs": [
        {
          "output_type": "execute_result",
          "data": {
            "text/html": [
              "<div>\n",
              "<style scoped>\n",
              "    .dataframe tbody tr th:only-of-type {\n",
              "        vertical-align: middle;\n",
              "    }\n",
              "\n",
              "    .dataframe tbody tr th {\n",
              "        vertical-align: top;\n",
              "    }\n",
              "\n",
              "    .dataframe thead th {\n",
              "        text-align: right;\n",
              "    }\n",
              "</style>\n",
              "<table border=\"1\" class=\"dataframe\">\n",
              "  <thead>\n",
              "    <tr style=\"text-align: right;\">\n",
              "      <th></th>\n",
              "      <th>case_id</th>\n",
              "      <th>Hospital_code</th>\n",
              "      <th>Hospital_type_code</th>\n",
              "      <th>City_Code_Hospital</th>\n",
              "      <th>Hospital_region_code</th>\n",
              "      <th>Available Extra Rooms in Hospital</th>\n",
              "      <th>Department</th>\n",
              "      <th>Ward_Type</th>\n",
              "      <th>Ward_Facility_Code</th>\n",
              "      <th>Bed Grade</th>\n",
              "      <th>patientid</th>\n",
              "      <th>City_Code_Patient</th>\n",
              "      <th>Type of Admission</th>\n",
              "      <th>Severity of Illness</th>\n",
              "      <th>Visitors with Patient</th>\n",
              "      <th>Age</th>\n",
              "      <th>Admission_Deposit</th>\n",
              "      <th>Stay</th>\n",
              "    </tr>\n",
              "  </thead>\n",
              "  <tbody>\n",
              "    <tr>\n",
              "      <th>0</th>\n",
              "      <td>1</td>\n",
              "      <td>8</td>\n",
              "      <td>c</td>\n",
              "      <td>3</td>\n",
              "      <td>Z</td>\n",
              "      <td>3</td>\n",
              "      <td>radiotherapy</td>\n",
              "      <td>R</td>\n",
              "      <td>F</td>\n",
              "      <td>2.0</td>\n",
              "      <td>31397</td>\n",
              "      <td>7.0</td>\n",
              "      <td>Emergency</td>\n",
              "      <td>Extreme</td>\n",
              "      <td>2</td>\n",
              "      <td>51-60</td>\n",
              "      <td>4911.0</td>\n",
              "      <td>0-10</td>\n",
              "    </tr>\n",
              "    <tr>\n",
              "      <th>1</th>\n",
              "      <td>2</td>\n",
              "      <td>2</td>\n",
              "      <td>c</td>\n",
              "      <td>5</td>\n",
              "      <td>Z</td>\n",
              "      <td>2</td>\n",
              "      <td>radiotherapy</td>\n",
              "      <td>S</td>\n",
              "      <td>F</td>\n",
              "      <td>2.0</td>\n",
              "      <td>31397</td>\n",
              "      <td>7.0</td>\n",
              "      <td>Trauma</td>\n",
              "      <td>Extreme</td>\n",
              "      <td>2</td>\n",
              "      <td>51-60</td>\n",
              "      <td>5954.0</td>\n",
              "      <td>41-50</td>\n",
              "    </tr>\n",
              "    <tr>\n",
              "      <th>2</th>\n",
              "      <td>3</td>\n",
              "      <td>10</td>\n",
              "      <td>e</td>\n",
              "      <td>1</td>\n",
              "      <td>X</td>\n",
              "      <td>2</td>\n",
              "      <td>anesthesia</td>\n",
              "      <td>S</td>\n",
              "      <td>E</td>\n",
              "      <td>2.0</td>\n",
              "      <td>31397</td>\n",
              "      <td>7.0</td>\n",
              "      <td>Trauma</td>\n",
              "      <td>Extreme</td>\n",
              "      <td>2</td>\n",
              "      <td>51-60</td>\n",
              "      <td>4745.0</td>\n",
              "      <td>31-40</td>\n",
              "    </tr>\n",
              "    <tr>\n",
              "      <th>3</th>\n",
              "      <td>4</td>\n",
              "      <td>26</td>\n",
              "      <td>b</td>\n",
              "      <td>2</td>\n",
              "      <td>Y</td>\n",
              "      <td>2</td>\n",
              "      <td>radiotherapy</td>\n",
              "      <td>R</td>\n",
              "      <td>D</td>\n",
              "      <td>2.0</td>\n",
              "      <td>31397</td>\n",
              "      <td>7.0</td>\n",
              "      <td>Trauma</td>\n",
              "      <td>Extreme</td>\n",
              "      <td>2</td>\n",
              "      <td>51-60</td>\n",
              "      <td>7272.0</td>\n",
              "      <td>41-50</td>\n",
              "    </tr>\n",
              "    <tr>\n",
              "      <th>4</th>\n",
              "      <td>5</td>\n",
              "      <td>26</td>\n",
              "      <td>b</td>\n",
              "      <td>2</td>\n",
              "      <td>Y</td>\n",
              "      <td>2</td>\n",
              "      <td>radiotherapy</td>\n",
              "      <td>S</td>\n",
              "      <td>D</td>\n",
              "      <td>2.0</td>\n",
              "      <td>31397</td>\n",
              "      <td>7.0</td>\n",
              "      <td>Trauma</td>\n",
              "      <td>Extreme</td>\n",
              "      <td>2</td>\n",
              "      <td>51-60</td>\n",
              "      <td>5558.0</td>\n",
              "      <td>41-50</td>\n",
              "    </tr>\n",
              "  </tbody>\n",
              "</table>\n",
              "</div>"
            ],
            "text/plain": [
              "   case_id  Hospital_code Hospital_type_code  ...    Age Admission_Deposit   Stay\n",
              "0        1              8                  c  ...  51-60            4911.0   0-10\n",
              "1        2              2                  c  ...  51-60            5954.0  41-50\n",
              "2        3             10                  e  ...  51-60            4745.0  31-40\n",
              "3        4             26                  b  ...  51-60            7272.0  41-50\n",
              "4        5             26                  b  ...  51-60            5558.0  41-50\n",
              "\n",
              "[5 rows x 18 columns]"
            ]
          },
          "metadata": {
            "tags": []
          },
          "execution_count": 82
        }
      ]
    },
    {
      "cell_type": "markdown",
      "metadata": {
        "id": "a3810e0c"
      },
      "source": [
        "## Basic Data Cleaning"
      ],
      "id": "a3810e0c"
    },
    {
      "cell_type": "code",
      "metadata": {
        "colab": {
          "base_uri": "https://localhost:8080/"
        },
        "id": "97da7e56",
        "outputId": "e1179efb-3361-4559-e412-f51271b4945d"
      },
      "source": [
        "#Data Types of Different Columns\n",
        "train_data.dtypes"
      ],
      "id": "97da7e56",
      "execution_count": null,
      "outputs": [
        {
          "output_type": "execute_result",
          "data": {
            "text/plain": [
              "case_id                                int64\n",
              "Hospital_code                          int64\n",
              "Hospital_type_code                    object\n",
              "City_Code_Hospital                     int64\n",
              "Hospital_region_code                  object\n",
              "Available Extra Rooms in Hospital      int64\n",
              "Department                            object\n",
              "Ward_Type                             object\n",
              "Ward_Facility_Code                    object\n",
              "Bed Grade                            float64\n",
              "patientid                              int64\n",
              "City_Code_Patient                    float64\n",
              "Type of Admission                     object\n",
              "Severity of Illness                   object\n",
              "Visitors with Patient                  int64\n",
              "Age                                   object\n",
              "Admission_Deposit                    float64\n",
              "Stay                                  object\n",
              "dtype: object"
            ]
          },
          "metadata": {
            "tags": []
          },
          "execution_count": 83
        }
      ]
    },
    {
      "cell_type": "code",
      "metadata": {
        "colab": {
          "base_uri": "https://localhost:8080/"
        },
        "id": "a6d52981",
        "outputId": "009e7297-ffa3-4150-f94c-63b3d6362b34"
      },
      "source": [
        "#Searching for null values\n",
        "train_data.isna().sum()"
      ],
      "id": "a6d52981",
      "execution_count": null,
      "outputs": [
        {
          "output_type": "execute_result",
          "data": {
            "text/plain": [
              "case_id                                 0\n",
              "Hospital_code                           0\n",
              "Hospital_type_code                      0\n",
              "City_Code_Hospital                      0\n",
              "Hospital_region_code                    0\n",
              "Available Extra Rooms in Hospital       0\n",
              "Department                              0\n",
              "Ward_Type                               0\n",
              "Ward_Facility_Code                      0\n",
              "Bed Grade                             113\n",
              "patientid                               0\n",
              "City_Code_Patient                    4532\n",
              "Type of Admission                       0\n",
              "Severity of Illness                     0\n",
              "Visitors with Patient                   0\n",
              "Age                                     0\n",
              "Admission_Deposit                       0\n",
              "Stay                                    0\n",
              "dtype: int64"
            ]
          },
          "metadata": {
            "tags": []
          },
          "execution_count": 84
        }
      ]
    },
    {
      "cell_type": "code",
      "metadata": {
        "id": "e05f0a97"
      },
      "source": [
        "#Fill null values with 0's\n",
        "train_data['Bed Grade'] = train_data['Bed Grade'].fillna(0)\n",
        "train_data['City_Code_Patient'] = train_data['City_Code_Patient'].fillna(0)"
      ],
      "id": "e05f0a97",
      "execution_count": null,
      "outputs": []
    },
    {
      "cell_type": "code",
      "metadata": {
        "colab": {
          "base_uri": "https://localhost:8080/"
        },
        "id": "fe80a6f5",
        "outputId": "224689f3-2fb5-458f-e18c-95f3fa5e7218"
      },
      "source": [
        "#Confirmation that there are no more null values\n",
        "train_data.isna().sum()"
      ],
      "id": "fe80a6f5",
      "execution_count": null,
      "outputs": [
        {
          "output_type": "execute_result",
          "data": {
            "text/plain": [
              "case_id                              0\n",
              "Hospital_code                        0\n",
              "Hospital_type_code                   0\n",
              "City_Code_Hospital                   0\n",
              "Hospital_region_code                 0\n",
              "Available Extra Rooms in Hospital    0\n",
              "Department                           0\n",
              "Ward_Type                            0\n",
              "Ward_Facility_Code                   0\n",
              "Bed Grade                            0\n",
              "patientid                            0\n",
              "City_Code_Patient                    0\n",
              "Type of Admission                    0\n",
              "Severity of Illness                  0\n",
              "Visitors with Patient                0\n",
              "Age                                  0\n",
              "Admission_Deposit                    0\n",
              "Stay                                 0\n",
              "dtype: int64"
            ]
          },
          "metadata": {
            "tags": []
          },
          "execution_count": 86
        }
      ]
    },
    {
      "cell_type": "code",
      "metadata": {
        "id": "ecc3552a"
      },
      "source": [
        "#Dropping irrelevant columns\n",
        "train_data.drop(['case_id', 'patientid'], axis=1, inplace=True)"
      ],
      "id": "ecc3552a",
      "execution_count": null,
      "outputs": []
    },
    {
      "cell_type": "code",
      "metadata": {
        "colab": {
          "base_uri": "https://localhost:8080/"
        },
        "id": "d040506e",
        "outputId": "71baefc8-39db-44c8-8a18-ba0c2e91ad94"
      },
      "source": [
        "#Exploring the Stay Column\n",
        "train_data['Stay'].value_counts()"
      ],
      "id": "d040506e",
      "execution_count": null,
      "outputs": [
        {
          "output_type": "execute_result",
          "data": {
            "text/plain": [
              "21-30                 87491\n",
              "11-20                 78139\n",
              "31-40                 55159\n",
              "51-60                 35018\n",
              "0-10                  23604\n",
              "41-50                 11743\n",
              "71-80                 10254\n",
              "More than 100 Days     6683\n",
              "81-90                  4838\n",
              "91-100                 2765\n",
              "61-70                  2744\n",
              "Name: Stay, dtype: int64"
            ]
          },
          "metadata": {
            "tags": []
          },
          "execution_count": 88
        }
      ]
    },
    {
      "cell_type": "code",
      "metadata": {
        "id": "4ac4b13e"
      },
      "source": [
        "#Replace the more than 100 days category to something more uniform\n",
        "train_data['Stay'].replace('More than 100 Days', '100+', inplace=True)"
      ],
      "id": "4ac4b13e",
      "execution_count": null,
      "outputs": []
    },
    {
      "cell_type": "code",
      "metadata": {
        "colab": {
          "base_uri": "https://localhost:8080/"
        },
        "id": "eec2d6aa",
        "outputId": "f759436a-a223-479f-e7d1-810b6215a9dd"
      },
      "source": [
        "train_data['Stay'].value_counts()"
      ],
      "id": "eec2d6aa",
      "execution_count": null,
      "outputs": [
        {
          "output_type": "execute_result",
          "data": {
            "text/plain": [
              "21-30     87491\n",
              "11-20     78139\n",
              "31-40     55159\n",
              "51-60     35018\n",
              "0-10      23604\n",
              "41-50     11743\n",
              "71-80     10254\n",
              "100+       6683\n",
              "81-90      4838\n",
              "91-100     2765\n",
              "61-70      2744\n",
              "Name: Stay, dtype: int64"
            ]
          },
          "metadata": {
            "tags": []
          },
          "execution_count": 90
        }
      ]
    },
    {
      "cell_type": "markdown",
      "metadata": {
        "id": "f0fb7561"
      },
      "source": [
        "## Feature Engineering"
      ],
      "id": "f0fb7561"
    },
    {
      "cell_type": "code",
      "metadata": {
        "colab": {
          "base_uri": "https://localhost:8080/"
        },
        "id": "bc27ce98",
        "outputId": "1a0a14ba-6f68-423a-ff79-58ea33ab2606"
      },
      "source": [
        "#Divide columns into categorical and numerical\n",
        "x_categorical_columns = []\n",
        "y_column = []\n",
        "x_numerical_columns = []\n",
        "\n",
        "for column in train_data.columns:\n",
        "    if train_data[column].dtypes == 'object':\n",
        "        x_categorical_columns.append(column)\n",
        "        \n",
        "for column in train_data.columns:\n",
        "    if train_data[column].dtypes != 'object':\n",
        "        x_numerical_columns.append(column)\n",
        "        \n",
        "print(x_categorical_columns)\n",
        "print(x_numerical_columns)"
      ],
      "id": "bc27ce98",
      "execution_count": null,
      "outputs": [
        {
          "output_type": "stream",
          "text": [
            "['Hospital_type_code', 'Hospital_region_code', 'Department', 'Ward_Type', 'Ward_Facility_Code', 'Type of Admission', 'Severity of Illness', 'Age', 'Stay']\n",
            "['Hospital_code', 'City_Code_Hospital', 'Available Extra Rooms in Hospital', 'Bed Grade', 'City_Code_Patient', 'Visitors with Patient', 'Admission_Deposit']\n"
          ],
          "name": "stdout"
        }
      ]
    },
    {
      "cell_type": "code",
      "metadata": {
        "id": "207c405c"
      },
      "source": [
        "#Some columns in the numerical columns are list are in reality more like categorical variables\n",
        "x_categorical_columns.append('Bed Grade')\n",
        "x_categorical_columns.append('Hospital_code')\n",
        "x_categorical_columns.append('City_Code_Hospital')\n",
        "x_categorical_columns.append('City_Code_Patient')"
      ],
      "id": "207c405c",
      "execution_count": null,
      "outputs": []
    },
    {
      "cell_type": "code",
      "metadata": {
        "colab": {
          "base_uri": "https://localhost:8080/"
        },
        "id": "0a6f89c1",
        "outputId": "fe5196cf-6013-42ef-eb31-314e75410e8d"
      },
      "source": [
        "#remove \"Stay\" from x categorical because it is a y value\n",
        "x_categorical_columns.remove('Stay')\n",
        "x_categorical_columns"
      ],
      "id": "0a6f89c1",
      "execution_count": null,
      "outputs": [
        {
          "output_type": "execute_result",
          "data": {
            "text/plain": [
              "['Hospital_type_code',\n",
              " 'Hospital_region_code',\n",
              " 'Department',\n",
              " 'Ward_Type',\n",
              " 'Ward_Facility_Code',\n",
              " 'Type of Admission',\n",
              " 'Severity of Illness',\n",
              " 'Age',\n",
              " 'Bed Grade',\n",
              " 'Hospital_code',\n",
              " 'City_Code_Hospital',\n",
              " 'City_Code_Patient']"
            ]
          },
          "metadata": {
            "tags": []
          },
          "execution_count": 93
        }
      ]
    },
    {
      "cell_type": "code",
      "metadata": {
        "colab": {
          "base_uri": "https://localhost:8080/"
        },
        "id": "5bade727",
        "outputId": "3e1b3dff-9c89-4372-b52b-a52b11575caa"
      },
      "source": [
        "#Remove the above columns from the numerical columns list\n",
        "x_numerical_columns.remove('Bed Grade')\n",
        "x_numerical_columns.remove('Hospital_code')\n",
        "x_numerical_columns.remove('City_Code_Hospital')\n",
        "x_numerical_columns.remove('City_Code_Patient')\n",
        "x_numerical_columns"
      ],
      "id": "5bade727",
      "execution_count": null,
      "outputs": [
        {
          "output_type": "execute_result",
          "data": {
            "text/plain": [
              "['Available Extra Rooms in Hospital',\n",
              " 'Visitors with Patient',\n",
              " 'Admission_Deposit']"
            ]
          },
          "metadata": {
            "tags": []
          },
          "execution_count": 94
        }
      ]
    },
    {
      "cell_type": "code",
      "metadata": {
        "colab": {
          "base_uri": "https://localhost:8080/"
        },
        "id": "1eda7401",
        "outputId": "d0d05db2-3c48-4521-fb3a-63c4d3067fc8"
      },
      "source": [
        "#set y_column\n",
        "y_column.append('Stay')\n",
        "y_column"
      ],
      "id": "1eda7401",
      "execution_count": null,
      "outputs": [
        {
          "output_type": "execute_result",
          "data": {
            "text/plain": [
              "['Stay']"
            ]
          },
          "metadata": {
            "tags": []
          },
          "execution_count": 95
        }
      ]
    },
    {
      "cell_type": "code",
      "metadata": {
        "colab": {
          "base_uri": "https://localhost:8080/"
        },
        "id": "c4a88130",
        "outputId": "e2eff4be-3df7-49ee-fe77-02ec3689ce14"
      },
      "source": [
        "x_categorical_columns"
      ],
      "id": "c4a88130",
      "execution_count": null,
      "outputs": [
        {
          "output_type": "execute_result",
          "data": {
            "text/plain": [
              "['Hospital_type_code',\n",
              " 'Hospital_region_code',\n",
              " 'Department',\n",
              " 'Ward_Type',\n",
              " 'Ward_Facility_Code',\n",
              " 'Type of Admission',\n",
              " 'Severity of Illness',\n",
              " 'Age',\n",
              " 'Bed Grade',\n",
              " 'Hospital_code',\n",
              " 'City_Code_Hospital',\n",
              " 'City_Code_Patient']"
            ]
          },
          "metadata": {
            "tags": []
          },
          "execution_count": 96
        }
      ]
    },
    {
      "cell_type": "code",
      "metadata": {
        "id": "j8QTGc9C_zaF"
      },
      "source": [
        "raw_data = train_data.copy()"
      ],
      "id": "j8QTGc9C_zaF",
      "execution_count": null,
      "outputs": []
    },
    {
      "cell_type": "code",
      "metadata": {
        "id": "9bff3f8d"
      },
      "source": [
        "from sklearn.preprocessing import LabelEncoder\n",
        "\n",
        "x_label_encoder = {}\n",
        "y_label_encoder = LabelEncoder()\n",
        "\n",
        "\n",
        "\n",
        "for column in x_categorical_columns:\n",
        "    x_label_encoder[column] = LabelEncoder()\n",
        "    train_data[column] = x_label_encoder[column].fit_transform(train_data[column])\n",
        "    \n",
        "for column in y_column:\n",
        "    train_data[column] = y_label_encoder.fit_transform(train_data[column])\n",
        "    \n"
      ],
      "id": "9bff3f8d",
      "execution_count": null,
      "outputs": []
    },
    {
      "cell_type": "code",
      "metadata": {
        "colab": {
          "base_uri": "https://localhost:8080/"
        },
        "id": "YNa51-Yh3KkF",
        "outputId": "2a99a63a-18ef-402e-b89b-d6d4167766f6"
      },
      "source": [
        "x_label_encoder.keys()"
      ],
      "id": "YNa51-Yh3KkF",
      "execution_count": null,
      "outputs": [
        {
          "output_type": "execute_result",
          "data": {
            "text/plain": [
              "dict_keys(['Hospital_type_code', 'Hospital_region_code', 'Department', 'Ward_Type', 'Ward_Facility_Code', 'Type of Admission', 'Severity of Illness', 'Age', 'Bed Grade', 'Hospital_code', 'City_Code_Hospital', 'City_Code_Patient'])"
            ]
          },
          "metadata": {
            "tags": []
          },
          "execution_count": 101
        }
      ]
    },
    {
      "cell_type": "code",
      "metadata": {
        "colab": {
          "base_uri": "https://localhost:8080/",
          "height": 473
        },
        "id": "0013954c",
        "outputId": "a2fde914-1565-4774-9679-885bc41b3af5"
      },
      "source": [
        "train_data[x_categorical_columns]"
      ],
      "id": "0013954c",
      "execution_count": null,
      "outputs": [
        {
          "output_type": "execute_result",
          "data": {
            "text/html": [
              "<div>\n",
              "<style scoped>\n",
              "    .dataframe tbody tr th:only-of-type {\n",
              "        vertical-align: middle;\n",
              "    }\n",
              "\n",
              "    .dataframe tbody tr th {\n",
              "        vertical-align: top;\n",
              "    }\n",
              "\n",
              "    .dataframe thead th {\n",
              "        text-align: right;\n",
              "    }\n",
              "</style>\n",
              "<table border=\"1\" class=\"dataframe\">\n",
              "  <thead>\n",
              "    <tr style=\"text-align: right;\">\n",
              "      <th></th>\n",
              "      <th>Hospital_type_code</th>\n",
              "      <th>Hospital_region_code</th>\n",
              "      <th>Department</th>\n",
              "      <th>Ward_Type</th>\n",
              "      <th>Ward_Facility_Code</th>\n",
              "      <th>Type of Admission</th>\n",
              "      <th>Severity of Illness</th>\n",
              "      <th>Age</th>\n",
              "      <th>Bed Grade</th>\n",
              "      <th>Hospital_code</th>\n",
              "      <th>City_Code_Hospital</th>\n",
              "      <th>City_Code_Patient</th>\n",
              "    </tr>\n",
              "  </thead>\n",
              "  <tbody>\n",
              "    <tr>\n",
              "      <th>0</th>\n",
              "      <td>2</td>\n",
              "      <td>2</td>\n",
              "      <td>3</td>\n",
              "      <td>2</td>\n",
              "      <td>5</td>\n",
              "      <td>0</td>\n",
              "      <td>0</td>\n",
              "      <td>5</td>\n",
              "      <td>2</td>\n",
              "      <td>7</td>\n",
              "      <td>2</td>\n",
              "      <td>7</td>\n",
              "    </tr>\n",
              "    <tr>\n",
              "      <th>1</th>\n",
              "      <td>2</td>\n",
              "      <td>2</td>\n",
              "      <td>3</td>\n",
              "      <td>3</td>\n",
              "      <td>5</td>\n",
              "      <td>1</td>\n",
              "      <td>0</td>\n",
              "      <td>5</td>\n",
              "      <td>2</td>\n",
              "      <td>1</td>\n",
              "      <td>4</td>\n",
              "      <td>7</td>\n",
              "    </tr>\n",
              "    <tr>\n",
              "      <th>2</th>\n",
              "      <td>4</td>\n",
              "      <td>0</td>\n",
              "      <td>1</td>\n",
              "      <td>3</td>\n",
              "      <td>4</td>\n",
              "      <td>1</td>\n",
              "      <td>0</td>\n",
              "      <td>5</td>\n",
              "      <td>2</td>\n",
              "      <td>9</td>\n",
              "      <td>0</td>\n",
              "      <td>7</td>\n",
              "    </tr>\n",
              "    <tr>\n",
              "      <th>3</th>\n",
              "      <td>1</td>\n",
              "      <td>1</td>\n",
              "      <td>3</td>\n",
              "      <td>2</td>\n",
              "      <td>3</td>\n",
              "      <td>1</td>\n",
              "      <td>0</td>\n",
              "      <td>5</td>\n",
              "      <td>2</td>\n",
              "      <td>25</td>\n",
              "      <td>1</td>\n",
              "      <td>7</td>\n",
              "    </tr>\n",
              "    <tr>\n",
              "      <th>4</th>\n",
              "      <td>1</td>\n",
              "      <td>1</td>\n",
              "      <td>3</td>\n",
              "      <td>3</td>\n",
              "      <td>3</td>\n",
              "      <td>1</td>\n",
              "      <td>0</td>\n",
              "      <td>5</td>\n",
              "      <td>2</td>\n",
              "      <td>25</td>\n",
              "      <td>1</td>\n",
              "      <td>7</td>\n",
              "    </tr>\n",
              "    <tr>\n",
              "      <th>...</th>\n",
              "      <td>...</td>\n",
              "      <td>...</td>\n",
              "      <td>...</td>\n",
              "      <td>...</td>\n",
              "      <td>...</td>\n",
              "      <td>...</td>\n",
              "      <td>...</td>\n",
              "      <td>...</td>\n",
              "      <td>...</td>\n",
              "      <td>...</td>\n",
              "      <td>...</td>\n",
              "      <td>...</td>\n",
              "    </tr>\n",
              "    <tr>\n",
              "      <th>318433</th>\n",
              "      <td>0</td>\n",
              "      <td>0</td>\n",
              "      <td>3</td>\n",
              "      <td>1</td>\n",
              "      <td>5</td>\n",
              "      <td>0</td>\n",
              "      <td>2</td>\n",
              "      <td>4</td>\n",
              "      <td>4</td>\n",
              "      <td>5</td>\n",
              "      <td>5</td>\n",
              "      <td>22</td>\n",
              "    </tr>\n",
              "    <tr>\n",
              "      <th>318434</th>\n",
              "      <td>0</td>\n",
              "      <td>0</td>\n",
              "      <td>1</td>\n",
              "      <td>1</td>\n",
              "      <td>4</td>\n",
              "      <td>2</td>\n",
              "      <td>2</td>\n",
              "      <td>8</td>\n",
              "      <td>4</td>\n",
              "      <td>23</td>\n",
              "      <td>0</td>\n",
              "      <td>8</td>\n",
              "    </tr>\n",
              "    <tr>\n",
              "      <th>318435</th>\n",
              "      <td>0</td>\n",
              "      <td>0</td>\n",
              "      <td>2</td>\n",
              "      <td>2</td>\n",
              "      <td>5</td>\n",
              "      <td>0</td>\n",
              "      <td>1</td>\n",
              "      <td>7</td>\n",
              "      <td>4</td>\n",
              "      <td>6</td>\n",
              "      <td>3</td>\n",
              "      <td>10</td>\n",
              "    </tr>\n",
              "    <tr>\n",
              "      <th>318436</th>\n",
              "      <td>1</td>\n",
              "      <td>1</td>\n",
              "      <td>1</td>\n",
              "      <td>1</td>\n",
              "      <td>3</td>\n",
              "      <td>1</td>\n",
              "      <td>1</td>\n",
              "      <td>1</td>\n",
              "      <td>3</td>\n",
              "      <td>10</td>\n",
              "      <td>1</td>\n",
              "      <td>8</td>\n",
              "    </tr>\n",
              "    <tr>\n",
              "      <th>318437</th>\n",
              "      <td>0</td>\n",
              "      <td>1</td>\n",
              "      <td>2</td>\n",
              "      <td>1</td>\n",
              "      <td>2</td>\n",
              "      <td>0</td>\n",
              "      <td>1</td>\n",
              "      <td>1</td>\n",
              "      <td>2</td>\n",
              "      <td>18</td>\n",
              "      <td>6</td>\n",
              "      <td>8</td>\n",
              "    </tr>\n",
              "  </tbody>\n",
              "</table>\n",
              "<p>318438 rows × 12 columns</p>\n",
              "</div>"
            ],
            "text/plain": [
              "        Hospital_type_code  ...  City_Code_Patient\n",
              "0                        2  ...                  7\n",
              "1                        2  ...                  7\n",
              "2                        4  ...                  7\n",
              "3                        1  ...                  7\n",
              "4                        1  ...                  7\n",
              "...                    ...  ...                ...\n",
              "318433                   0  ...                 22\n",
              "318434                   0  ...                  8\n",
              "318435                   0  ...                 10\n",
              "318436                   1  ...                  8\n",
              "318437                   0  ...                  8\n",
              "\n",
              "[318438 rows x 12 columns]"
            ]
          },
          "metadata": {
            "tags": []
          },
          "execution_count": 102
        }
      ]
    },
    {
      "cell_type": "code",
      "metadata": {
        "id": "24d06ae4"
      },
      "source": [
        "#Scaling of numerical columns\n",
        "from sklearn.preprocessing import StandardScaler\n",
        "\n",
        "scaler = StandardScaler()\n",
        "\n",
        "train_data[x_numerical_columns] = scaler.fit_transform(train_data[x_numerical_columns].values)"
      ],
      "id": "24d06ae4",
      "execution_count": null,
      "outputs": []
    },
    {
      "cell_type": "code",
      "metadata": {
        "colab": {
          "base_uri": "https://localhost:8080/",
          "height": 275
        },
        "id": "b4aaf1cb",
        "outputId": "b920fa61-9dcd-4f48-c867-45036f6e89ce"
      },
      "source": [
        "train_data.head()"
      ],
      "id": "b4aaf1cb",
      "execution_count": null,
      "outputs": [
        {
          "output_type": "execute_result",
          "data": {
            "text/html": [
              "<div>\n",
              "<style scoped>\n",
              "    .dataframe tbody tr th:only-of-type {\n",
              "        vertical-align: middle;\n",
              "    }\n",
              "\n",
              "    .dataframe tbody tr th {\n",
              "        vertical-align: top;\n",
              "    }\n",
              "\n",
              "    .dataframe thead th {\n",
              "        text-align: right;\n",
              "    }\n",
              "</style>\n",
              "<table border=\"1\" class=\"dataframe\">\n",
              "  <thead>\n",
              "    <tr style=\"text-align: right;\">\n",
              "      <th></th>\n",
              "      <th>Hospital_code</th>\n",
              "      <th>Hospital_type_code</th>\n",
              "      <th>City_Code_Hospital</th>\n",
              "      <th>Hospital_region_code</th>\n",
              "      <th>Available Extra Rooms in Hospital</th>\n",
              "      <th>Department</th>\n",
              "      <th>Ward_Type</th>\n",
              "      <th>Ward_Facility_Code</th>\n",
              "      <th>Bed Grade</th>\n",
              "      <th>City_Code_Patient</th>\n",
              "      <th>Type of Admission</th>\n",
              "      <th>Severity of Illness</th>\n",
              "      <th>Visitors with Patient</th>\n",
              "      <th>Age</th>\n",
              "      <th>Admission_Deposit</th>\n",
              "      <th>Stay</th>\n",
              "    </tr>\n",
              "  </thead>\n",
              "  <tbody>\n",
              "    <tr>\n",
              "      <th>0</th>\n",
              "      <td>7</td>\n",
              "      <td>2</td>\n",
              "      <td>2</td>\n",
              "      <td>2</td>\n",
              "      <td>-0.169177</td>\n",
              "      <td>3</td>\n",
              "      <td>2</td>\n",
              "      <td>5</td>\n",
              "      <td>2</td>\n",
              "      <td>7</td>\n",
              "      <td>0</td>\n",
              "      <td>0</td>\n",
              "      <td>-0.727923</td>\n",
              "      <td>5</td>\n",
              "      <td>0.027835</td>\n",
              "      <td>0</td>\n",
              "    </tr>\n",
              "    <tr>\n",
              "      <th>1</th>\n",
              "      <td>1</td>\n",
              "      <td>2</td>\n",
              "      <td>4</td>\n",
              "      <td>2</td>\n",
              "      <td>-1.025217</td>\n",
              "      <td>3</td>\n",
              "      <td>3</td>\n",
              "      <td>5</td>\n",
              "      <td>2</td>\n",
              "      <td>7</td>\n",
              "      <td>1</td>\n",
              "      <td>0</td>\n",
              "      <td>-0.727923</td>\n",
              "      <td>5</td>\n",
              "      <td>0.987556</td>\n",
              "      <td>5</td>\n",
              "    </tr>\n",
              "    <tr>\n",
              "      <th>2</th>\n",
              "      <td>9</td>\n",
              "      <td>4</td>\n",
              "      <td>0</td>\n",
              "      <td>0</td>\n",
              "      <td>-1.025217</td>\n",
              "      <td>1</td>\n",
              "      <td>3</td>\n",
              "      <td>4</td>\n",
              "      <td>2</td>\n",
              "      <td>7</td>\n",
              "      <td>1</td>\n",
              "      <td>0</td>\n",
              "      <td>-0.727923</td>\n",
              "      <td>5</td>\n",
              "      <td>-0.124910</td>\n",
              "      <td>4</td>\n",
              "    </tr>\n",
              "    <tr>\n",
              "      <th>3</th>\n",
              "      <td>25</td>\n",
              "      <td>1</td>\n",
              "      <td>1</td>\n",
              "      <td>1</td>\n",
              "      <td>-1.025217</td>\n",
              "      <td>3</td>\n",
              "      <td>2</td>\n",
              "      <td>3</td>\n",
              "      <td>2</td>\n",
              "      <td>7</td>\n",
              "      <td>1</td>\n",
              "      <td>0</td>\n",
              "      <td>-0.727923</td>\n",
              "      <td>5</td>\n",
              "      <td>2.200319</td>\n",
              "      <td>5</td>\n",
              "    </tr>\n",
              "    <tr>\n",
              "      <th>4</th>\n",
              "      <td>25</td>\n",
              "      <td>1</td>\n",
              "      <td>1</td>\n",
              "      <td>1</td>\n",
              "      <td>-1.025217</td>\n",
              "      <td>3</td>\n",
              "      <td>3</td>\n",
              "      <td>3</td>\n",
              "      <td>2</td>\n",
              "      <td>7</td>\n",
              "      <td>1</td>\n",
              "      <td>0</td>\n",
              "      <td>-0.727923</td>\n",
              "      <td>5</td>\n",
              "      <td>0.623175</td>\n",
              "      <td>5</td>\n",
              "    </tr>\n",
              "  </tbody>\n",
              "</table>\n",
              "</div>"
            ],
            "text/plain": [
              "   Hospital_code  Hospital_type_code  ...  Admission_Deposit  Stay\n",
              "0              7                   2  ...           0.027835     0\n",
              "1              1                   2  ...           0.987556     5\n",
              "2              9                   4  ...          -0.124910     4\n",
              "3             25                   1  ...           2.200319     5\n",
              "4             25                   1  ...           0.623175     5\n",
              "\n",
              "[5 rows x 16 columns]"
            ]
          },
          "metadata": {
            "tags": []
          },
          "execution_count": 104
        }
      ]
    },
    {
      "cell_type": "code",
      "metadata": {
        "id": "808fd9a1"
      },
      "source": [
        "#Declaring x and y variables\n",
        "y = train_data['Stay']\n",
        "X = train_data.drop('Stay', axis=1)"
      ],
      "id": "808fd9a1",
      "execution_count": null,
      "outputs": []
    },
    {
      "cell_type": "code",
      "metadata": {
        "id": "GPOZ5eb2-csb"
      },
      "source": [
        "order = list(X.columns)"
      ],
      "id": "GPOZ5eb2-csb",
      "execution_count": null,
      "outputs": []
    },
    {
      "cell_type": "code",
      "metadata": {
        "id": "a697cfb5"
      },
      "source": [
        "#Now that the data is cleaned, label encoded, and scaled we use train/test/split\n",
        "from sklearn.model_selection import train_test_split\n",
        "\n",
        "X_train, X_test, y_train, y_test = train_test_split(X, y, test_size=0.2, random_state=1)"
      ],
      "id": "a697cfb5",
      "execution_count": null,
      "outputs": []
    },
    {
      "cell_type": "markdown",
      "metadata": {
        "id": "84fb46d7"
      },
      "source": [
        "# Neural Network"
      ],
      "id": "84fb46d7"
    },
    {
      "cell_type": "code",
      "metadata": {
        "id": "4f5ac31b"
      },
      "source": [
        "from tensorflow.keras.models import Sequential\n",
        "from tensorflow.keras.layers import Dense\n",
        "from tensorflow.keras.optimizers import SGD\n",
        "from tensorflow.keras.callbacks import ModelCheckpoint\n",
        "import os\n",
        "\n",
        "\n",
        "def create_model():\n",
        "\n",
        "  model = Sequential()\n",
        "\n",
        "  #Inputs and hidden layers\n",
        "  model.add(Dense(units=50, activation='relu', input_dim=15))\n",
        "  model.add(Dense(units=100, activation='relu'))\n",
        "  model.add(Dense(units=50, activation='relu'))\n",
        "  model.add(Dense(units=15, activation='relu'))\n",
        "  model.add(Dense(units=50, activation='relu')) \n",
        "  model.add(Dense(units=100, activation='relu')) \n",
        "  model.add(Dense(units = 50, activation='relu'))       \n",
        "            \n",
        "  #Outputs\n",
        "  model.add((Dense(units=11, activation='softmax')))\n",
        "\n",
        "  optimizer = SGD(learning_rate = 0.01, momentum = 0)\n",
        "\n",
        "  model.compile(optimizer=optimizer,\n",
        "              loss='sparse_categorical_crossentropy',\n",
        "              metrics=['accuracy'])\n",
        "  \n",
        "  return model"
      ],
      "id": "4f5ac31b",
      "execution_count": null,
      "outputs": []
    },
    {
      "cell_type": "code",
      "metadata": {
        "colab": {
          "base_uri": "https://localhost:8080/"
        },
        "id": "36f20cea",
        "outputId": "7b295d4d-638d-4866-a045-e1b5055632e6"
      },
      "source": [
        "model = create_model()\n",
        "\n",
        "model.summary()"
      ],
      "id": "36f20cea",
      "execution_count": null,
      "outputs": [
        {
          "output_type": "stream",
          "text": [
            "Model: \"sequential\"\n",
            "_________________________________________________________________\n",
            "Layer (type)                 Output Shape              Param #   \n",
            "=================================================================\n",
            "dense (Dense)                (None, 50)                800       \n",
            "_________________________________________________________________\n",
            "dense_1 (Dense)              (None, 100)               5100      \n",
            "_________________________________________________________________\n",
            "dense_2 (Dense)              (None, 50)                5050      \n",
            "_________________________________________________________________\n",
            "dense_3 (Dense)              (None, 15)                765       \n",
            "_________________________________________________________________\n",
            "dense_4 (Dense)              (None, 50)                800       \n",
            "_________________________________________________________________\n",
            "dense_5 (Dense)              (None, 100)               5100      \n",
            "_________________________________________________________________\n",
            "dense_6 (Dense)              (None, 50)                5050      \n",
            "_________________________________________________________________\n",
            "dense_7 (Dense)              (None, 11)                561       \n",
            "=================================================================\n",
            "Total params: 23,226\n",
            "Trainable params: 23,226\n",
            "Non-trainable params: 0\n",
            "_________________________________________________________________\n"
          ],
          "name": "stdout"
        }
      ]
    },
    {
      "cell_type": "code",
      "metadata": {
        "colab": {
          "base_uri": "https://localhost:8080/"
        },
        "id": "03a03618",
        "outputId": "9fe9a9e9-db48-41f0-ad37-95ebf290ef73"
      },
      "source": [
        "#Fit model\n",
        "\n",
        "checkpoint_path = 'training_1/cp-{epoch:04d}.ckpt'\n",
        "\n",
        "checkpoint_dir = os.path.dirname(checkpoint_path)\n",
        "\n",
        "batch_size = 32\n",
        "\n",
        "cp_callback = ModelCheckpoint(\n",
        "    filepath = checkpoint_path,\n",
        "    verbose = 0, \n",
        "    save_weights_only = True   \n",
        ")\n",
        "\n",
        "model = create_model()\n",
        "\n",
        "model.save_weights(checkpoint_path.format(epoch=0))\n",
        "\n",
        "model.fit(\n",
        "    X_train,\n",
        "    y_train,\n",
        "    epochs=50,\n",
        "    shuffle=True,\n",
        "    verbose=2,\n",
        "    validation_data = (X_test, y_test),\n",
        "    batch_size = batch_size, \n",
        "    callbacks = [cp_callback]\n",
        ")"
      ],
      "id": "03a03618",
      "execution_count": null,
      "outputs": [
        {
          "output_type": "stream",
          "text": [
            "Epoch 1/50\n",
            "7961/7961 - 13s - loss: 1.7111 - accuracy: 0.3399 - val_loss: 1.6228 - val_accuracy: 0.3785\n",
            "Epoch 2/50\n",
            "7961/7961 - 11s - loss: 1.6163 - accuracy: 0.3798 - val_loss: 1.5956 - val_accuracy: 0.3884\n",
            "Epoch 3/50\n",
            "7961/7961 - 11s - loss: 1.5983 - accuracy: 0.3871 - val_loss: 1.5855 - val_accuracy: 0.3934\n",
            "Epoch 4/50\n",
            "7961/7961 - 11s - loss: 1.5852 - accuracy: 0.3924 - val_loss: 1.5756 - val_accuracy: 0.3977\n",
            "Epoch 5/50\n",
            "7961/7961 - 10s - loss: 1.5766 - accuracy: 0.3969 - val_loss: 1.5749 - val_accuracy: 0.3943\n",
            "Epoch 6/50\n",
            "7961/7961 - 10s - loss: 1.5690 - accuracy: 0.4002 - val_loss: 1.5625 - val_accuracy: 0.4024\n",
            "Epoch 7/50\n",
            "7961/7961 - 11s - loss: 1.5631 - accuracy: 0.4018 - val_loss: 1.5913 - val_accuracy: 0.3897\n",
            "Epoch 8/50\n",
            "7961/7961 - 11s - loss: 1.5582 - accuracy: 0.4039 - val_loss: 1.5491 - val_accuracy: 0.4081\n",
            "Epoch 9/50\n",
            "7961/7961 - 11s - loss: 1.5540 - accuracy: 0.4053 - val_loss: 1.5528 - val_accuracy: 0.4073\n",
            "Epoch 10/50\n",
            "7961/7961 - 11s - loss: 1.5496 - accuracy: 0.4063 - val_loss: 1.5595 - val_accuracy: 0.4036\n",
            "Epoch 11/50\n",
            "7961/7961 - 11s - loss: 1.5471 - accuracy: 0.4081 - val_loss: 1.5466 - val_accuracy: 0.4042\n",
            "Epoch 12/50\n",
            "7961/7961 - 11s - loss: 1.5443 - accuracy: 0.4089 - val_loss: 1.5500 - val_accuracy: 0.4075\n",
            "Epoch 13/50\n",
            "7961/7961 - 11s - loss: 1.5421 - accuracy: 0.4086 - val_loss: 1.5457 - val_accuracy: 0.4092\n",
            "Epoch 14/50\n",
            "7961/7961 - 12s - loss: 1.5398 - accuracy: 0.4108 - val_loss: 1.5448 - val_accuracy: 0.4089\n",
            "Epoch 15/50\n",
            "7961/7961 - 13s - loss: 1.5376 - accuracy: 0.4115 - val_loss: 1.5417 - val_accuracy: 0.4103\n",
            "Epoch 16/50\n",
            "7961/7961 - 12s - loss: 1.5358 - accuracy: 0.4126 - val_loss: 1.5397 - val_accuracy: 0.4102\n",
            "Epoch 17/50\n",
            "7961/7961 - 11s - loss: 1.5345 - accuracy: 0.4127 - val_loss: 1.5376 - val_accuracy: 0.4114\n",
            "Epoch 18/50\n",
            "7961/7961 - 12s - loss: 1.5333 - accuracy: 0.4124 - val_loss: 1.5370 - val_accuracy: 0.4111\n",
            "Epoch 19/50\n",
            "7961/7961 - 11s - loss: 1.5317 - accuracy: 0.4131 - val_loss: 1.5435 - val_accuracy: 0.4098\n",
            "Epoch 20/50\n",
            "7961/7961 - 12s - loss: 1.5305 - accuracy: 0.4142 - val_loss: 1.5352 - val_accuracy: 0.4125\n",
            "Epoch 21/50\n",
            "7961/7961 - 11s - loss: 1.5294 - accuracy: 0.4151 - val_loss: 1.5402 - val_accuracy: 0.4117\n",
            "Epoch 22/50\n",
            "7961/7961 - 11s - loss: 1.5286 - accuracy: 0.4152 - val_loss: 1.5449 - val_accuracy: 0.4125\n",
            "Epoch 23/50\n",
            "7961/7961 - 11s - loss: 1.5272 - accuracy: 0.4157 - val_loss: 1.5344 - val_accuracy: 0.4129\n",
            "Epoch 24/50\n",
            "7961/7961 - 12s - loss: 1.5264 - accuracy: 0.4154 - val_loss: 1.5302 - val_accuracy: 0.4136\n",
            "Epoch 25/50\n",
            "7961/7961 - 11s - loss: 1.5255 - accuracy: 0.4160 - val_loss: 1.5319 - val_accuracy: 0.4132\n",
            "Epoch 26/50\n",
            "7961/7961 - 12s - loss: 1.5245 - accuracy: 0.4163 - val_loss: 1.5393 - val_accuracy: 0.4118\n",
            "Epoch 27/50\n",
            "7961/7961 - 12s - loss: 1.5239 - accuracy: 0.4168 - val_loss: 1.5299 - val_accuracy: 0.4142\n",
            "Epoch 28/50\n",
            "7961/7961 - 11s - loss: 1.5232 - accuracy: 0.4176 - val_loss: 1.5302 - val_accuracy: 0.4154\n",
            "Epoch 29/50\n",
            "7961/7961 - 11s - loss: 1.5222 - accuracy: 0.4177 - val_loss: 1.5329 - val_accuracy: 0.4137\n",
            "Epoch 30/50\n",
            "7961/7961 - 11s - loss: 1.5216 - accuracy: 0.4173 - val_loss: 1.5377 - val_accuracy: 0.4118\n",
            "Epoch 31/50\n",
            "7961/7961 - 11s - loss: 1.5205 - accuracy: 0.4186 - val_loss: 1.5301 - val_accuracy: 0.4148\n",
            "Epoch 32/50\n",
            "7961/7961 - 11s - loss: 1.5201 - accuracy: 0.4180 - val_loss: 1.5287 - val_accuracy: 0.4133\n",
            "Epoch 33/50\n",
            "7961/7961 - 10s - loss: 1.5194 - accuracy: 0.4183 - val_loss: 1.5349 - val_accuracy: 0.4115\n",
            "Epoch 34/50\n",
            "7961/7961 - 10s - loss: 1.5188 - accuracy: 0.4186 - val_loss: 1.5306 - val_accuracy: 0.4141\n",
            "Epoch 35/50\n",
            "7961/7961 - 11s - loss: 1.5178 - accuracy: 0.4186 - val_loss: 1.5295 - val_accuracy: 0.4137\n",
            "Epoch 36/50\n",
            "7961/7961 - 10s - loss: 1.5173 - accuracy: 0.4177 - val_loss: 1.5324 - val_accuracy: 0.4126\n",
            "Epoch 37/50\n",
            "7961/7961 - 11s - loss: 1.5164 - accuracy: 0.4193 - val_loss: 1.5248 - val_accuracy: 0.4163\n",
            "Epoch 38/50\n",
            "7961/7961 - 11s - loss: 1.5154 - accuracy: 0.4192 - val_loss: 1.5335 - val_accuracy: 0.4117\n",
            "Epoch 39/50\n",
            "7961/7961 - 12s - loss: 1.5144 - accuracy: 0.4200 - val_loss: 1.5274 - val_accuracy: 0.4160\n",
            "Epoch 40/50\n",
            "7961/7961 - 12s - loss: 1.5137 - accuracy: 0.4198 - val_loss: 1.5286 - val_accuracy: 0.4143\n",
            "Epoch 41/50\n",
            "7961/7961 - 11s - loss: 1.5131 - accuracy: 0.4197 - val_loss: 1.5280 - val_accuracy: 0.4152\n",
            "Epoch 42/50\n",
            "7961/7961 - 11s - loss: 1.5121 - accuracy: 0.4196 - val_loss: 1.5220 - val_accuracy: 0.4172\n",
            "Epoch 43/50\n",
            "7961/7961 - 12s - loss: 1.5119 - accuracy: 0.4210 - val_loss: 1.5277 - val_accuracy: 0.4163\n",
            "Epoch 44/50\n",
            "7961/7961 - 11s - loss: 1.5112 - accuracy: 0.4213 - val_loss: 1.5345 - val_accuracy: 0.4136\n",
            "Epoch 45/50\n",
            "7961/7961 - 11s - loss: 1.5106 - accuracy: 0.4202 - val_loss: 1.5220 - val_accuracy: 0.4177\n",
            "Epoch 46/50\n",
            "7961/7961 - 12s - loss: 1.5099 - accuracy: 0.4207 - val_loss: 1.5209 - val_accuracy: 0.4172\n",
            "Epoch 47/50\n",
            "7961/7961 - 11s - loss: 1.5093 - accuracy: 0.4213 - val_loss: 1.5243 - val_accuracy: 0.4172\n",
            "Epoch 48/50\n",
            "7961/7961 - 11s - loss: 1.5087 - accuracy: 0.4212 - val_loss: 1.5226 - val_accuracy: 0.4157\n",
            "Epoch 49/50\n",
            "7961/7961 - 12s - loss: 1.5080 - accuracy: 0.4223 - val_loss: 1.5271 - val_accuracy: 0.4151\n",
            "Epoch 50/50\n",
            "7961/7961 - 12s - loss: 1.5077 - accuracy: 0.4225 - val_loss: 1.5244 - val_accuracy: 0.4175\n"
          ],
          "name": "stdout"
        },
        {
          "output_type": "execute_result",
          "data": {
            "text/plain": [
              "<tensorflow.python.keras.callbacks.History at 0x7ff81e182e90>"
            ]
          },
          "metadata": {
            "tags": []
          },
          "execution_count": 43
        }
      ]
    },
    {
      "cell_type": "code",
      "metadata": {
        "colab": {
          "base_uri": "https://localhost:8080/"
        },
        "id": "oszLQnwIs5AL",
        "outputId": "d0330dbe-2106-43e0-e405-b8d02bf9e687"
      },
      "source": [
        "import os \n",
        "[a for a in os.listdir(checkpoint_dir) if '47' in a]"
      ],
      "id": "oszLQnwIs5AL",
      "execution_count": null,
      "outputs": [
        {
          "output_type": "execute_result",
          "data": {
            "text/plain": [
              "['cp-0047.ckpt.data-00000-of-00001', 'cp-0047.ckpt.index']"
            ]
          },
          "metadata": {
            "tags": []
          },
          "execution_count": 44
        }
      ]
    },
    {
      "cell_type": "code",
      "metadata": {
        "colab": {
          "base_uri": "https://localhost:8080/"
        },
        "id": "R1exT12UtiCb",
        "outputId": "09ceb4a2-e831-4312-9baa-11b1d405c396"
      },
      "source": [
        "print(checkpoint_dir)"
      ],
      "id": "R1exT12UtiCb",
      "execution_count": null,
      "outputs": [
        {
          "output_type": "stream",
          "text": [
            "training_1\n"
          ],
          "name": "stdout"
        }
      ]
    },
    {
      "cell_type": "code",
      "metadata": {
        "colab": {
          "base_uri": "https://localhost:8080/"
        },
        "id": "cnFdPfaHspj8",
        "outputId": "a9f4baf7-ba94-429b-c752-ccc2751819fb"
      },
      "source": [
        "model_1 = create_model()\n",
        "model_1.load_weights('training_1/cp-0047.ckpt')"
      ],
      "id": "cnFdPfaHspj8",
      "execution_count": null,
      "outputs": [
        {
          "output_type": "execute_result",
          "data": {
            "text/plain": [
              "<tensorflow.python.training.tracking.util.CheckpointLoadStatus at 0x7ff822218090>"
            ]
          },
          "metadata": {
            "tags": []
          },
          "execution_count": 46
        }
      ]
    },
    {
      "cell_type": "code",
      "metadata": {
        "id": "e8bf88c4",
        "colab": {
          "base_uri": "https://localhost:8080/"
        },
        "outputId": "5562b936-95df-4d09-f499-19a3ac8ef5c3"
      },
      "source": [
        "model_loss, model_accuracy = model_1.evaluate(\n",
        "    X_test, y_test, verbose=2)\n",
        "print(\n",
        "    f\"Normal Neural Network - Loss: {model_loss}, Accuracy: {model_accuracy}\")"
      ],
      "id": "e8bf88c4",
      "execution_count": null,
      "outputs": [
        {
          "output_type": "stream",
          "text": [
            "1991/1991 - 2s - loss: 1.5243 - accuracy: 0.4172\n",
            "Normal Neural Network - Loss: 1.52434241771698, Accuracy: 0.4172057509422302\n"
          ],
          "name": "stdout"
        }
      ]
    },
    {
      "cell_type": "code",
      "metadata": {
        "id": "89d28374",
        "colab": {
          "base_uri": "https://localhost:8080/"
        },
        "outputId": "c8aea9c5-105d-4ff2-8558-0619394a4437"
      },
      "source": [
        "y_translator = {a:b for (a,b) in zip(range(11), y_label_encoder.inverse_transform(range(11)))}\n",
        "y_translator"
      ],
      "id": "89d28374",
      "execution_count": null,
      "outputs": [
        {
          "output_type": "execute_result",
          "data": {
            "text/plain": [
              "{0: '0-10',\n",
              " 1: '100+',\n",
              " 2: '11-20',\n",
              " 3: '21-30',\n",
              " 4: '31-40',\n",
              " 5: '41-50',\n",
              " 6: '51-60',\n",
              " 7: '61-70',\n",
              " 8: '71-80',\n",
              " 9: '81-90',\n",
              " 10: '91-100'}"
            ]
          },
          "metadata": {
            "tags": []
          },
          "execution_count": 108
        }
      ]
    },
    {
      "cell_type": "code",
      "metadata": {
        "colab": {
          "base_uri": "https://localhost:8080/"
        },
        "id": "vlOyNRxT0KR_",
        "outputId": "f6b17dd7-689e-4944-f59d-093ccfabc76c"
      },
      "source": [
        "scale_translator = {a: {'standard_deviation': float(b), 'mean': float(c)} for (a,b,c) in zip(x_numerical_columns, scaler.var_, scaler.mean_)}\n",
        "scale_translator"
      ],
      "id": "vlOyNRxT0KR_",
      "execution_count": null,
      "outputs": [
        {
          "output_type": "execute_result",
          "data": {
            "text/plain": [
              "{'Admission_Deposit': {'mean': 4880.749392346391,\n",
              "  'standard_deviation': 1181078.9164916168},\n",
              " 'Available Extra Rooms in Hospital': {'mean': 3.1976271676119055,\n",
              "  'standard_deviation': 1.3646201994983251},\n",
              " 'Visitors with Patient': {'mean': 3.2840992595104854,\n",
              "  'standard_deviation': 3.111902813705039}}"
            ]
          },
          "metadata": {
            "tags": []
          },
          "execution_count": 109
        }
      ]
    },
    {
      "cell_type": "code",
      "metadata": {
        "colab": {
          "base_uri": "https://localhost:8080/"
        },
        "id": "ZVLNF06V2D7u",
        "outputId": "96624186-60d0-4340-c792-a064dd0d631f"
      },
      "source": [
        "# X_translator = {c: {b:int(a) for (a,b) in zip([d.item() for d in list(x_label_encoder[c].transform(x_label_encoder[c].classes_))], x_label_encoder[c].classes_)} for c in x_label_encoder.keys()}\n",
        "X_translator = {}\n",
        "for a,b in x_label_encoder.items():\n",
        "  value = b.transform(b.classes_)\n",
        "  value = value.tolist()\n",
        "  key = b.classes_.tolist()\n",
        "  translation = {e:d for (e,d) in zip(key,value)}\n",
        "  X_translator[a] = translation\n",
        "\n",
        "X_translator\n"
      ],
      "id": "ZVLNF06V2D7u",
      "execution_count": null,
      "outputs": [
        {
          "output_type": "execute_result",
          "data": {
            "text/plain": [
              "{'Age': {'0-10': 0,\n",
              "  '11-20': 1,\n",
              "  '21-30': 2,\n",
              "  '31-40': 3,\n",
              "  '41-50': 4,\n",
              "  '51-60': 5,\n",
              "  '61-70': 6,\n",
              "  '71-80': 7,\n",
              "  '81-90': 8,\n",
              "  '91-100': 9},\n",
              " 'Bed Grade': {0.0: 0, 1.0: 1, 2.0: 2, 3.0: 3, 4.0: 4},\n",
              " 'City_Code_Hospital': {1: 0,\n",
              "  2: 1,\n",
              "  3: 2,\n",
              "  4: 3,\n",
              "  5: 4,\n",
              "  6: 5,\n",
              "  7: 6,\n",
              "  9: 7,\n",
              "  10: 8,\n",
              "  11: 9,\n",
              "  13: 10},\n",
              " 'City_Code_Patient': {0.0: 0,\n",
              "  1.0: 1,\n",
              "  2.0: 2,\n",
              "  3.0: 3,\n",
              "  4.0: 4,\n",
              "  5.0: 5,\n",
              "  6.0: 6,\n",
              "  7.0: 7,\n",
              "  8.0: 8,\n",
              "  9.0: 9,\n",
              "  10.0: 10,\n",
              "  11.0: 11,\n",
              "  12.0: 12,\n",
              "  13.0: 13,\n",
              "  14.0: 14,\n",
              "  15.0: 15,\n",
              "  16.0: 16,\n",
              "  18.0: 17,\n",
              "  19.0: 18,\n",
              "  20.0: 19,\n",
              "  21.0: 20,\n",
              "  22.0: 21,\n",
              "  23.0: 22,\n",
              "  24.0: 23,\n",
              "  25.0: 24,\n",
              "  26.0: 25,\n",
              "  27.0: 26,\n",
              "  28.0: 27,\n",
              "  29.0: 28,\n",
              "  30.0: 29,\n",
              "  31.0: 30,\n",
              "  32.0: 31,\n",
              "  33.0: 32,\n",
              "  34.0: 33,\n",
              "  35.0: 34,\n",
              "  36.0: 35,\n",
              "  37.0: 36,\n",
              "  38.0: 37},\n",
              " 'Department': {'TB & Chest disease': 0,\n",
              "  'anesthesia': 1,\n",
              "  'gynecology': 2,\n",
              "  'radiotherapy': 3,\n",
              "  'surgery': 4},\n",
              " 'Hospital_code': {1: 0,\n",
              "  2: 1,\n",
              "  3: 2,\n",
              "  4: 3,\n",
              "  5: 4,\n",
              "  6: 5,\n",
              "  7: 6,\n",
              "  8: 7,\n",
              "  9: 8,\n",
              "  10: 9,\n",
              "  11: 10,\n",
              "  12: 11,\n",
              "  13: 12,\n",
              "  14: 13,\n",
              "  15: 14,\n",
              "  16: 15,\n",
              "  17: 16,\n",
              "  18: 17,\n",
              "  19: 18,\n",
              "  20: 19,\n",
              "  21: 20,\n",
              "  22: 21,\n",
              "  23: 22,\n",
              "  24: 23,\n",
              "  25: 24,\n",
              "  26: 25,\n",
              "  27: 26,\n",
              "  28: 27,\n",
              "  29: 28,\n",
              "  30: 29,\n",
              "  31: 30,\n",
              "  32: 31},\n",
              " 'Hospital_region_code': {'X': 0, 'Y': 1, 'Z': 2},\n",
              " 'Hospital_type_code': {'a': 0,\n",
              "  'b': 1,\n",
              "  'c': 2,\n",
              "  'd': 3,\n",
              "  'e': 4,\n",
              "  'f': 5,\n",
              "  'g': 6},\n",
              " 'Severity of Illness': {'Extreme': 0, 'Minor': 1, 'Moderate': 2},\n",
              " 'Type of Admission': {'Emergency': 0, 'Trauma': 1, 'Urgent': 2},\n",
              " 'Ward_Facility_Code': {'A': 0, 'B': 1, 'C': 2, 'D': 3, 'E': 4, 'F': 5},\n",
              " 'Ward_Type': {'P': 0, 'Q': 1, 'R': 2, 'S': 3, 'T': 4, 'U': 5}}"
            ]
          },
          "metadata": {
            "tags": []
          },
          "execution_count": 110
        }
      ]
    },
    {
      "cell_type": "code",
      "metadata": {
        "colab": {
          "base_uri": "https://localhost:8080/"
        },
        "id": "IAGZjWn3B98G",
        "outputId": "c1e38fac-29c8-4691-a351-88fda163d68a"
      },
      "source": [
        "for a in X_translator['City_Code_Patient'].keys():\n",
        "  print(type(a))\n",
        "  break\n",
        "c = 'City_Code_Patient'\n",
        "[d.item() for d in list(x_label_encoder[c].transform(x_label_encoder[c].classes_))]"
      ],
      "id": "IAGZjWn3B98G",
      "execution_count": null,
      "outputs": [
        {
          "output_type": "stream",
          "text": [
            "<class 'float'>\n"
          ],
          "name": "stdout"
        },
        {
          "output_type": "execute_result",
          "data": {
            "text/plain": [
              "[0,\n",
              " 1,\n",
              " 2,\n",
              " 3,\n",
              " 4,\n",
              " 5,\n",
              " 6,\n",
              " 7,\n",
              " 8,\n",
              " 9,\n",
              " 10,\n",
              " 11,\n",
              " 12,\n",
              " 13,\n",
              " 14,\n",
              " 15,\n",
              " 16,\n",
              " 17,\n",
              " 18,\n",
              " 19,\n",
              " 20,\n",
              " 21,\n",
              " 22,\n",
              " 23,\n",
              " 24,\n",
              " 25,\n",
              " 26,\n",
              " 27,\n",
              " 28,\n",
              " 29,\n",
              " 30,\n",
              " 31,\n",
              " 32,\n",
              " 33,\n",
              " 34,\n",
              " 35,\n",
              " 36,\n",
              " 37]"
            ]
          },
          "metadata": {
            "tags": []
          },
          "execution_count": 111
        }
      ]
    },
    {
      "cell_type": "code",
      "metadata": {
        "id": "vVx9F8D28w75"
      },
      "source": [
        "translators = {\n",
        "    'X_translator': X_translator,\n",
        "    'y_translator': y_translator,\n",
        "    'scale_translator': scale_translator,\n",
        "    'data_order': order\n",
        "}"
      ],
      "id": "vVx9F8D28w75",
      "execution_count": null,
      "outputs": []
    },
    {
      "cell_type": "code",
      "metadata": {
        "id": "gSWDx6qh9Swy"
      },
      "source": [
        "import json\n",
        "with open('translators.json', 'w') as f:\n",
        "  json.dump(translators, f)"
      ],
      "id": "gSWDx6qh9Swy",
      "execution_count": null,
      "outputs": []
    },
    {
      "cell_type": "code",
      "metadata": {
        "colab": {
          "base_uri": "https://localhost:8080/"
        },
        "id": "mXp_oI9Z8KqS",
        "outputId": "d6fa7695-f36a-46ad-9952-635deb8ca2f7"
      },
      "source": [
        "translators = None\n",
        "with open('translators.json', 'r') as f:\n",
        "  translators=json.load(f)\n",
        "print(translators)"
      ],
      "id": "mXp_oI9Z8KqS",
      "execution_count": null,
      "outputs": [
        {
          "output_type": "stream",
          "text": [
            "{'X_translator': {'Hospital_type_code': {'a': 0, 'b': 1, 'c': 2, 'd': 3, 'e': 4, 'f': 5, 'g': 6}, 'Hospital_region_code': {'X': 0, 'Y': 1, 'Z': 2}, 'Department': {'TB & Chest disease': 0, 'anesthesia': 1, 'gynecology': 2, 'radiotherapy': 3, 'surgery': 4}, 'Ward_Type': {'P': 0, 'Q': 1, 'R': 2, 'S': 3, 'T': 4, 'U': 5}, 'Ward_Facility_Code': {'A': 0, 'B': 1, 'C': 2, 'D': 3, 'E': 4, 'F': 5}, 'Type of Admission': {'Emergency': 0, 'Trauma': 1, 'Urgent': 2}, 'Severity of Illness': {'Extreme': 0, 'Minor': 1, 'Moderate': 2}, 'Age': {'0-10': 0, '11-20': 1, '21-30': 2, '31-40': 3, '41-50': 4, '51-60': 5, '61-70': 6, '71-80': 7, '81-90': 8, '91-100': 9}, 'Bed Grade': {'0.0': 0, '1.0': 1, '2.0': 2, '3.0': 3, '4.0': 4}, 'Hospital_code': {'1': 0, '2': 1, '3': 2, '4': 3, '5': 4, '6': 5, '7': 6, '8': 7, '9': 8, '10': 9, '11': 10, '12': 11, '13': 12, '14': 13, '15': 14, '16': 15, '17': 16, '18': 17, '19': 18, '20': 19, '21': 20, '22': 21, '23': 22, '24': 23, '25': 24, '26': 25, '27': 26, '28': 27, '29': 28, '30': 29, '31': 30, '32': 31}, 'City_Code_Hospital': {'1': 0, '2': 1, '3': 2, '4': 3, '5': 4, '6': 5, '7': 6, '9': 7, '10': 8, '11': 9, '13': 10}, 'City_Code_Patient': {'0.0': 0, '1.0': 1, '2.0': 2, '3.0': 3, '4.0': 4, '5.0': 5, '6.0': 6, '7.0': 7, '8.0': 8, '9.0': 9, '10.0': 10, '11.0': 11, '12.0': 12, '13.0': 13, '14.0': 14, '15.0': 15, '16.0': 16, '18.0': 17, '19.0': 18, '20.0': 19, '21.0': 20, '22.0': 21, '23.0': 22, '24.0': 23, '25.0': 24, '26.0': 25, '27.0': 26, '28.0': 27, '29.0': 28, '30.0': 29, '31.0': 30, '32.0': 31, '33.0': 32, '34.0': 33, '35.0': 34, '36.0': 35, '37.0': 36, '38.0': 37}}, 'y_translator': {'0': '0-10', '1': '100+', '2': '11-20', '3': '21-30', '4': '31-40', '5': '41-50', '6': '51-60', '7': '61-70', '8': '71-80', '9': '81-90', '10': '91-100'}, 'scale_translator': {'Available Extra Rooms in Hospital': {'standard_deviation': 1.3646201994983251, 'mean': 3.1976271676119055}, 'Visitors with Patient': {'standard_deviation': 3.111902813705039, 'mean': 3.2840992595104854}, 'Admission_Deposit': {'standard_deviation': 1181078.9164916168, 'mean': 4880.749392346391}}, 'data_order': ['Hospital_code', 'Hospital_type_code', 'City_Code_Hospital', 'Hospital_region_code', 'Available Extra Rooms in Hospital', 'Department', 'Ward_Type', 'Ward_Facility_Code', 'Bed Grade', 'City_Code_Patient', 'Type of Admission', 'Severity of Illness', 'Visitors with Patient', 'Age', 'Admission_Deposit']}\n"
          ],
          "name": "stdout"
        }
      ]
    },
    {
      "cell_type": "code",
      "metadata": {
        "colab": {
          "base_uri": "https://localhost:8080/"
        },
        "id": "oF4NoYKAFPFZ",
        "outputId": "63362462-dbc6-48f8-d492-ef3ac074777d"
      },
      "source": [
        "x_categorical_columns"
      ],
      "id": "oF4NoYKAFPFZ",
      "execution_count": null,
      "outputs": [
        {
          "output_type": "execute_result",
          "data": {
            "text/plain": [
              "['Hospital_type_code',\n",
              " 'Hospital_region_code',\n",
              " 'Department',\n",
              " 'Ward_Type',\n",
              " 'Ward_Facility_Code',\n",
              " 'Type of Admission',\n",
              " 'Severity of Illness',\n",
              " 'Age',\n",
              " 'Bed Grade',\n",
              " 'Hospital_code',\n",
              " 'City_Code_Hospital',\n",
              " 'City_Code_Patient']"
            ]
          },
          "metadata": {
            "tags": []
          },
          "execution_count": 142
        }
      ]
    },
    {
      "cell_type": "code",
      "metadata": {
        "colab": {
          "base_uri": "https://localhost:8080/"
        },
        "id": "zm89b3nzFUcK",
        "outputId": "e8e47509-967f-413b-8f06-262f5bf02792"
      },
      "source": [
        "x_numerical_columns"
      ],
      "id": "zm89b3nzFUcK",
      "execution_count": null,
      "outputs": [
        {
          "output_type": "execute_result",
          "data": {
            "text/plain": [
              "['Available Extra Rooms in Hospital',\n",
              " 'Visitors with Patient',\n",
              " 'Admission_Deposit']"
            ]
          },
          "metadata": {
            "tags": []
          },
          "execution_count": 143
        }
      ]
    },
    {
      "cell_type": "code",
      "metadata": {
        "id": "0aafc6d5",
        "colab": {
          "base_uri": "https://localhost:8080/"
        },
        "outputId": "4f768aa9-e669-4bff-e583-6e9954c32411"
      },
      "source": [
        "input = raw_data.iloc[0].to_dict()\n",
        "input.pop('Stay')\n",
        "input"
      ],
      "id": "0aafc6d5",
      "execution_count": null,
      "outputs": [
        {
          "output_type": "execute_result",
          "data": {
            "text/plain": [
              "{'Admission_Deposit': 4911.0,\n",
              " 'Age': '51-60',\n",
              " 'Available Extra Rooms in Hospital': 3,\n",
              " 'Bed Grade': 2.0,\n",
              " 'City_Code_Hospital': 3,\n",
              " 'City_Code_Patient': 7.0,\n",
              " 'Department': 'radiotherapy',\n",
              " 'Hospital_code': 8,\n",
              " 'Hospital_region_code': 'Z',\n",
              " 'Hospital_type_code': 'c',\n",
              " 'Severity of Illness': 'Extreme',\n",
              " 'Type of Admission': 'Emergency',\n",
              " 'Visitors with Patient': 2,\n",
              " 'Ward_Facility_Code': 'F',\n",
              " 'Ward_Type': 'R'}"
            ]
          },
          "metadata": {
            "tags": []
          },
          "execution_count": 144
        }
      ]
    },
    {
      "cell_type": "code",
      "metadata": {
        "colab": {
          "base_uri": "https://localhost:8080/"
        },
        "id": "scHV2lt0Dq-M",
        "outputId": "22cb8971-bc43-4dfb-9bf7-dc6bca75e28c"
      },
      "source": [
        "[i for i in raw_data.columns if i not in X_train.columns]"
      ],
      "id": "scHV2lt0Dq-M",
      "execution_count": null,
      "outputs": [
        {
          "output_type": "execute_result",
          "data": {
            "text/plain": [
              "['Stay']"
            ]
          },
          "metadata": {
            "tags": []
          },
          "execution_count": 145
        }
      ]
    },
    {
      "cell_type": "code",
      "metadata": {
        "colab": {
          "base_uri": "https://localhost:8080/",
          "height": 72
        },
        "id": "bmNCj78S_NHb",
        "outputId": "3418f8e0-5edf-4591-98b0-131598f2911e"
      },
      "source": [
        "def predict(input):\n",
        "  translators = None\n",
        "  with open('translators.json', 'r') as f:\n",
        "    translators=json.load(f)\n",
        "\n",
        "  X_translator = translators['X_translator']\n",
        "  scale_translator = translators['scale_translator']\n",
        "  order = translators['data_order']\n",
        "  y_translator = translators['y_translator']\n",
        "  input_t = {}\n",
        "  for (category, value) in input.items():\n",
        "    if category in x_categorical_columns:\n",
        "      input_t[category] = X_translator[category][str(value)]\n",
        "    elif category in x_numerical_columns:\n",
        "      mean = scale_translator[category]['mean']\n",
        "      std = scale_translator[category]['standard_deviation']\n",
        "      value = (value - mean)/std\n",
        "      input_t[category] = value\n",
        "    else:\n",
        "      print(f'ERROR: Unsupported parameter found! {category}') \n",
        "\n",
        "  input_t = np.array([input_t[i] for i in order]).reshape(1, 15)\n",
        "  model_1 = create_model()\n",
        "  model_1.load_weights('training_1/cp-0047.ckpt')\n",
        "  prediction = model_1.predict(input_t).argmax()\n",
        "  prediction = y_translator[str(prediction)]\n",
        "  return prediction\n",
        "  \n",
        "predict(input)"
      ],
      "id": "bmNCj78S_NHb",
      "execution_count": null,
      "outputs": [
        {
          "output_type": "stream",
          "text": [
            "WARNING:tensorflow:5 out of the last 5 calls to <function Model.make_predict_function.<locals>.predict_function at 0x7ff8154f6dd0> triggered tf.function retracing. Tracing is expensive and the excessive number of tracings could be due to (1) creating @tf.function repeatedly in a loop, (2) passing tensors with different shapes, (3) passing Python objects instead of tensors. For (1), please define your @tf.function outside of the loop. For (2), @tf.function has experimental_relax_shapes=True option that relaxes argument shapes that can avoid unnecessary retracing. For (3), please refer to https://www.tensorflow.org/guide/function#controlling_retracing and https://www.tensorflow.org/api_docs/python/tf/function for  more details.\n"
          ],
          "name": "stdout"
        },
        {
          "output_type": "execute_result",
          "data": {
            "application/vnd.google.colaboratory.intrinsic+json": {
              "type": "string"
            },
            "text/plain": [
              "'21-30'"
            ]
          },
          "metadata": {
            "tags": []
          },
          "execution_count": 162
        }
      ]
    },
    {
      "cell_type": "code",
      "metadata": {
        "colab": {
          "base_uri": "https://localhost:8080/"
        },
        "id": "hRewcjc5BwZ4",
        "outputId": "7754e252-4480-47b2-d2a3-0a42a5e3dcc8"
      },
      "source": [
        "type(list(X_translator['Hospital_code'].keys())[0])"
      ],
      "id": "hRewcjc5BwZ4",
      "execution_count": null,
      "outputs": [
        {
          "output_type": "execute_result",
          "data": {
            "text/plain": [
              "str"
            ]
          },
          "metadata": {
            "tags": []
          },
          "execution_count": 122
        }
      ]
    }
  ]
}